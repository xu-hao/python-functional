{
 "cells": [
  {
   "cell_type": "markdown",
   "metadata": {
    "id": "gdH-igCGu3YO",
    "slideshow": {
     "slide_type": "slide"
    }
   },
   "source": [
    "# Introduction\n",
    "\n",
    "* Lambda \n",
    "* Typing\n",
    "* Monads\n",
    "\n",
    "\n"
   ]
  },
  {
   "cell_type": "code",
   "execution_count": 1,
   "metadata": {
    "slideshow": {
     "slide_type": "skip"
    }
   },
   "outputs": [],
   "source": [
    "%load_ext mypy_ipython"
   ]
  },
  {
   "cell_type": "markdown",
   "metadata": {
    "id": "L3X_Yl1a9xuS",
    "slideshow": {
     "slide_type": "slide"
    }
   },
   "source": [
    "# Lambda"
   ]
  },
  {
   "cell_type": "markdown",
   "metadata": {
    "id": "V-gQpie_GsYt",
    "slideshow": {
     "slide_type": "slide"
    }
   },
   "source": [
    "## Syntax"
   ]
  },
  {
   "cell_type": "code",
   "execution_count": 2,
   "metadata": {
    "id": "biRhKPB79mN9",
    "slideshow": {
     "slide_type": "subslide"
    }
   },
   "outputs": [
    {
     "name": "stdout",
     "output_type": "stream",
     "text": [
      "<function _identity at 0x7f9c5c31b5e0>\n",
      "<function <lambda> at 0x7f9c5c31b8b0>\n"
     ]
    },
    {
     "data": {
      "text/plain": [
       "1"
      ]
     },
     "execution_count": 2,
     "metadata": {},
     "output_type": "execute_result"
    }
   ],
   "source": [
    "def _identity(x):\n",
    "  return x\n",
    "\n",
    "print(_identity)\n",
    "\n",
    "identity = lambda x: x\n",
    "\n",
    "print(identity)\n",
    "\n",
    "identity(1)"
   ]
  },
  {
   "cell_type": "markdown",
   "metadata": {
    "id": "RBoom12E-Yjf",
    "slideshow": {
     "slide_type": "slide"
    }
   },
   "source": [
    "## Higher-order functions\n",
    "\n",
    "Functions that take in functions as arguments or return functions"
   ]
  },
  {
   "cell_type": "markdown",
   "metadata": {
    "id": "3hDv0S3S4VJu",
    "slideshow": {
     "slide_type": "subslide"
    }
   },
   "source": [
    "### Takes in functions as arguments"
   ]
  },
  {
   "cell_type": "code",
   "execution_count": 3,
   "metadata": {
    "id": "7iCLLTyY2kgb",
    "slideshow": {
     "slide_type": "-"
    }
   },
   "outputs": [
    {
     "data": {
      "text/plain": [
       "1"
      ]
     },
     "execution_count": 3,
     "metadata": {},
     "output_type": "execute_result"
    }
   ],
   "source": [
    "def _apply(f, x):\n",
    "  return f(x)\n",
    "\n",
    "apply = lambda f, x: f(x)\n",
    "\n",
    "apply(identity, 1)"
   ]
  },
  {
   "cell_type": "markdown",
   "metadata": {
    "id": "lRvwZGX74cgq",
    "slideshow": {
     "slide_type": "subslide"
    }
   },
   "source": [
    "### Returns functions "
   ]
  },
  {
   "cell_type": "code",
   "execution_count": 4,
   "metadata": {
    "id": "H_93mON229i7",
    "slideshow": {
     "slide_type": "-"
    }
   },
   "outputs": [
    {
     "data": {
      "text/plain": [
       "1"
      ]
     },
     "execution_count": 4,
     "metadata": {},
     "output_type": "execute_result"
    }
   ],
   "source": [
    "def _const(x):\n",
    "  def func(y):\n",
    "    return x\n",
    "  return func\n",
    "\n",
    "const = lambda x: lambda _: x\n",
    "\n",
    "const1 = const(1)\n",
    "\n",
    "const1(0)"
   ]
  },
  {
   "cell_type": "markdown",
   "metadata": {
    "id": "aBx6ntkb4nyp",
    "slideshow": {
     "slide_type": "subslide"
    }
   },
   "source": [
    "### Both"
   ]
  },
  {
   "cell_type": "code",
   "execution_count": 5,
   "metadata": {
    "id": "V5DXIKcA91bp",
    "slideshow": {
     "slide_type": "-"
    }
   },
   "outputs": [
    {
     "data": {
      "text/plain": [
       "3"
      ]
     },
     "execution_count": 5,
     "metadata": {},
     "output_type": "execute_result"
    }
   ],
   "source": [
    "def _compose(f, g):\n",
    "  def func(x):\n",
    "    return f(g(x))\n",
    "  return func\n",
    "\n",
    "compose = lambda f, g: lambda x: f(g(x))\n",
    "\n",
    "add1 = lambda x: x + 1\n",
    "\n",
    "compose(add1, add1)(1)"
   ]
  },
  {
   "cell_type": "markdown",
   "metadata": {
    "id": "VeZ0sB8g-hIg",
    "slideshow": {
     "slide_type": "slide"
    }
   },
   "source": [
    "## Builtin"
   ]
  },
  {
   "cell_type": "markdown",
   "metadata": {
    "slideshow": {
     "slide_type": "subslide"
    }
   },
   "source": [
    "### `map`"
   ]
  },
  {
   "cell_type": "code",
   "execution_count": 6,
   "metadata": {
    "id": "jGumIE6p-qS8",
    "slideshow": {
     "slide_type": "-"
    }
   },
   "outputs": [
    {
     "data": {
      "text/plain": [
       "[2, 3, 4]"
      ]
     },
     "execution_count": 6,
     "metadata": {},
     "output_type": "execute_result"
    }
   ],
   "source": [
    "list(map(add1, [1,2,3]))"
   ]
  },
  {
   "cell_type": "markdown",
   "metadata": {
    "slideshow": {
     "slide_type": "subslide"
    }
   },
   "source": [
    "### `filter`"
   ]
  },
  {
   "cell_type": "code",
   "execution_count": 7,
   "metadata": {
    "id": "2q00x7Wy-vpp",
    "slideshow": {
     "slide_type": "-"
    }
   },
   "outputs": [
    {
     "data": {
      "text/plain": [
       "[1]"
      ]
     },
     "execution_count": 7,
     "metadata": {},
     "output_type": "execute_result"
    }
   ],
   "source": [
    "list(filter(lambda x: x < 2, [1,2,3]))"
   ]
  },
  {
   "cell_type": "markdown",
   "metadata": {
    "id": "9GMAQgJHHK6c",
    "slideshow": {
     "slide_type": "slide"
    }
   },
   "source": [
    "## `functools`"
   ]
  },
  {
   "cell_type": "markdown",
   "metadata": {
    "id": "s1QkzWpEHOqL",
    "slideshow": {
     "slide_type": "subslide"
    }
   },
   "source": [
    "### partial application"
   ]
  },
  {
   "cell_type": "code",
   "execution_count": 8,
   "metadata": {
    "id": "4C-6U8OBHTBO"
   },
   "outputs": [
    {
     "data": {
      "text/plain": [
       "1"
      ]
     },
     "execution_count": 8,
     "metadata": {},
     "output_type": "execute_result"
    }
   ],
   "source": [
    "add = lambda x, y: x + y\n",
    "\n",
    "from functools import partial\n",
    "\n",
    "add1 = partial(add, 1)\n",
    "\n",
    "add1(0)"
   ]
  },
  {
   "cell_type": "markdown",
   "metadata": {
    "id": "2qUMxV1PIfEf",
    "slideshow": {
     "slide_type": "subslide"
    }
   },
   "source": [
    "### fold\n",
    "\n",
    "fold is called `reduce` in python.\n",
    "\n",
    "`reduce(<binary function>, <iterable>, <initializer>)`\n",
    "\n",
    "`reduce(+, [x1, ..., xn], 0) = 0 + x1 + ... + xn`"
   ]
  },
  {
   "cell_type": "code",
   "execution_count": 9,
   "metadata": {
    "id": "a-EeNsHQIiaZ"
   },
   "outputs": [
    {
     "data": {
      "text/plain": [
       "6"
      ]
     },
     "execution_count": 9,
     "metadata": {},
     "output_type": "execute_result"
    }
   ],
   "source": [
    "from functools import reduce\n",
    "\n",
    "reduce(add, [1,2,3], 0)"
   ]
  },
  {
   "cell_type": "markdown",
   "metadata": {
    "id": "RKTdJmxNAK3Q",
    "slideshow": {
     "slide_type": "slide"
    }
   },
   "source": [
    "## Church encoding\n",
    "Alegbra data type can be encoded in lambdas. \n",
    "  * `bool`\n",
    "  * natural numbers\n",
    "  * `list`\n",
    "  * trees\n",
    "  * pair\n",
    "  * disjoint union"
   ]
  },
  {
   "cell_type": "markdown",
   "metadata": {
    "id": "uNV70ZM9ArWI",
    "slideshow": {
     "slide_type": "slide"
    }
   },
   "source": [
    "### `bool`"
   ]
  },
  {
   "cell_type": "code",
   "execution_count": null,
   "metadata": {
    "id": "nz3f16ZrAUyd",
    "slideshow": {
     "slide_type": "subslide"
    }
   },
   "outputs": [],
   "source": [
    "true = lambda x, y: x\n",
    "false = lambda x, y: y"
   ]
  },
  {
   "cell_type": "code",
   "execution_count": 10,
   "metadata": {
    "id": "nz3f16ZrAUyd",
    "slideshow": {
     "slide_type": "subslide"
    }
   },
   "outputs": [
    {
     "name": "stdout",
     "output_type": "stream",
     "text": [
      "1\n",
      "False\n",
      "False\n"
     ]
    }
   ],
   "source": [
    "if_then_else = lambda x, y, z: x(y, z)\n",
    "\n",
    "_and = lambda x, y: if_then_else(x, y, false)\n",
    "_or = lambda x, y: if_then_else(x, true, y)\n",
    "_not = lambda x: if_then_else(x, false, true)\n",
    "to_bool = lambda x: if_then_else(x, True, False)\n",
    "\n",
    "print(if_then_else(true, 1, 2))\n",
    "print(to_bool(_and(false, false)))\n",
    "print(to_bool(_not(true)))"
   ]
  },
  {
   "cell_type": "markdown",
   "metadata": {
    "id": "eaFlkutlCEie",
    "slideshow": {
     "slide_type": "slide"
    }
   },
   "source": [
    "### natural numbers"
   ]
  },
  {
   "cell_type": "code",
   "execution_count": null,
   "metadata": {
    "id": "PprNQ8ySCRwy",
    "slideshow": {
     "slide_type": "subslide"
    }
   },
   "outputs": [],
   "source": [
    "zero = lambda x, f: x\n",
    "# one = lambda x, f: f(x)\n",
    "# two = lambda x, f: f(f(x))"
   ]
  },
  {
   "cell_type": "code",
   "execution_count": null,
   "metadata": {
    "id": "PprNQ8ySCRwy",
    "slideshow": {
     "slide_type": "subslide"
    }
   },
   "outputs": [],
   "source": [
    "succ = lambda n: lambda x, f: f(n(x, f))"
   ]
  },
  {
   "cell_type": "code",
   "execution_count": 11,
   "metadata": {
    "id": "PprNQ8ySCRwy",
    "slideshow": {
     "slide_type": "subslide"
    }
   },
   "outputs": [
    {
     "name": "stdout",
     "output_type": "stream",
     "text": [
      "[0] = 0\n",
      "[1] = 1\n",
      "[0 + 2] = 2\n",
      "[1 + 1] = 2\n",
      "[1 * 2] = 2\n",
      "[2 * 2] = 4\n"
     ]
    }
   ],
   "source": [
    "to_int = lambda n: n(0, add1)\n",
    "\n",
    "one = succ(zero)\n",
    "two = succ(one)\n",
    "\n",
    "plus = lambda m, n: m(n, succ)\n",
    "\n",
    "from functools import partial\n",
    "\n",
    "times = lambda m, n: m(zero, partial(plus, n))\n",
    "\n",
    "print(f\"[0] = {to_int(zero)}\")\n",
    "print(f\"[1] = {to_int(one)}\")\n",
    "print(f\"[0 + 2] = {to_int(plus(zero,two))}\")\n",
    "print(f\"[1 + 1] = {to_int(plus(one,one))}\")\n",
    "print(f\"[1 * 2] = {to_int(times(one,two))}\")\n",
    "print(f\"[2 * 2] = {to_int(times(two,two))}\")"
   ]
  },
  {
   "cell_type": "markdown",
   "metadata": {
    "id": "70msMqnFJxiG",
    "slideshow": {
     "slide_type": "slide"
    }
   },
   "source": [
    "# Typing"
   ]
  },
  {
   "cell_type": "markdown",
   "metadata": {
    "id": "YbJWKl2CKUR_"
   },
   "source": [
    " * `Any`: any type\n",
    " * primitive type: `int`, `bool`, `str`, `float`\n",
    " * `Callable`: function types `Callable[[s1, ..., sn], t]`\n",
    " * `List`: list types `List[t]`\n",
    " * `Tuple`: tuple type `Tuple[t1, ..., tn]`\n",
    " * `Dict`: dictionary type `Dict[s, t]`\n",
    " * `Optional`: optional type `Optional[T]`\n",
    " * `Union`: union type `Union[t1, ..., tn]`\n",
    " \" `Literal`: literal types `Literal[l1, ..., ln]`\n",
    " * `Type`: type of types `Type[t]`\n",
    " \n",
    " Parametric Polymorphism (Genericity)\n",
    "\n",
    " * `TypeVar`: type variable\n",
    " "
   ]
  },
  {
   "cell_type": "markdown",
   "metadata": {
    "id": "yqs86sho5u0X",
    "slideshow": {
     "slide_type": "slide"
    }
   },
   "source": [
    "## Syntax"
   ]
  },
  {
   "cell_type": "code",
   "execution_count": 12,
   "metadata": {
    "id": "CRz6G1FnyCPR",
    "slideshow": {
     "slide_type": "skip"
    }
   },
   "outputs": [],
   "source": [
    "from typing import Callable, List, TypeVar, Tuple, Dict, Optional, Generic\n",
    "from dataclasses import dataclass\n",
    "from abc import ABC\n",
    "from __future__ import annotations\n",
    "\n"
   ]
  },
  {
   "cell_type": "code",
   "execution_count": 13,
   "metadata": {
    "id": "mj20pPN366RH",
    "slideshow": {
     "slide_type": "subslide"
    }
   },
   "outputs": [],
   "source": [
    "def _add1(x: int) -> int:\n",
    "  return x + 1\n",
    "\n",
    "# add1('a') type error\n"
   ]
  },
  {
   "cell_type": "code",
   "execution_count": 14,
   "metadata": {
    "id": "oQ67Q_s48VJG",
    "slideshow": {
     "slide_type": "subslide"
    }
   },
   "outputs": [],
   "source": [
    "add1: Callable[[int], int] = lambda x: x + 1\n",
    "\n",
    "# add1('a') type error"
   ]
  },
  {
   "cell_type": "markdown",
   "metadata": {
    "id": "4d1dg5V85wqs",
    "slideshow": {
     "slide_type": "slide"
    }
   },
   "source": [
    "## Typing functions"
   ]
  },
  {
   "cell_type": "code",
   "execution_count": 15,
   "metadata": {
    "id": "E1YmTHtG59YE",
    "slideshow": {
     "slide_type": "subslide"
    }
   },
   "outputs": [],
   "source": [
    "# define type variables\n",
    "R = TypeVar(\"R\")\n",
    "S = TypeVar(\"S\")\n",
    "T = TypeVar(\"T\")\n",
    "\n",
    "# apply: Callable[[Callable[[S], T], S], T]\n",
    "\n",
    "# const: Callable[[S], Callable[[T], S]]\n",
    "\n",
    "# compose: Callable[[Callable[[S], T], Callable[[R], S]], Callable[[R], T]]\n",
    "\n",
    "# map: Callable[[Callable[[S], T], List[S]], List[T]]\n",
    "\n",
    "# filter: Callable[[Callable[[T], bool], List[T]], List[T]]\n",
    "\n",
    "# reduce: Callable[[Callable[[R, S], T], List[S], R], T]"
   ]
  },
  {
   "cell_type": "markdown",
   "metadata": {
    "id": "GtojjVppERCb",
    "slideshow": {
     "slide_type": "slide"
    }
   },
   "source": [
    "## Custom generic types\n",
    "\n",
    "Inheriting the `Generic` type allows defining generic types `Generic[s1, ..., sn]`"
   ]
  },
  {
   "cell_type": "code",
   "execution_count": null,
   "metadata": {
    "colab": {
     "base_uri": "https://localhost:8080/",
     "height": 34
    },
    "id": "AfB8UxZDEm7P",
    "outputId": "2db2ceab-800b-4f2d-cc4a-da20831d983f",
    "slideshow": {
     "slide_type": "subslide"
    }
   },
   "outputs": [],
   "source": [
    "class Tree(Generic[T]):\n",
    "  def __init__(self, value: T, subtrees: List[Tree[T]]) -> None:\n",
    "    self.value = value\n",
    "    self.subtrees = subtrees"
   ]
  },
  {
   "cell_type": "code",
   "execution_count": 16,
   "metadata": {
    "colab": {
     "base_uri": "https://localhost:8080/",
     "height": 34
    },
    "id": "AfB8UxZDEm7P",
    "outputId": "2db2ceab-800b-4f2d-cc4a-da20831d983f",
    "slideshow": {
     "slide_type": "subslide"
    }
   },
   "outputs": [
    {
     "data": {
      "text/plain": [
       "3"
      ]
     },
     "execution_count": 16,
     "metadata": {},
     "output_type": "execute_result"
    }
   ],
   "source": [
    "a: Tree[int] = Tree(1, [Tree(2, []), Tree(2, [])])\n",
    "\n",
    "def size(a: Tree[int]) -> int:\n",
    "  return 1 + sum(map(size, a.subtrees))\n",
    "\n",
    "size(a)"
   ]
  },
  {
   "cell_type": "markdown",
   "metadata": {
    "id": "9qsaLbDpwa2D",
    "slideshow": {
     "slide_type": "slide"
    }
   },
   "source": [
    "# Monads\n",
    "\n",
    "Monadic programming provides two generic operator that are useful for implementing a wide range of effectful operators such as:\n",
    "\n",
    " * Null value\n",
    " * Error handling\n",
    " * I/O\n",
    " * State\n",
    " * Choice\n",
    " * Backtracking\n",
    " * Asynchronicity\n",
    "\n",
    "And allows composing these effects via constructs such as monad transformers.\n",
    "\n",
    "`tx-functional`\n",
    "\n",
    "Other libraries:\n",
    " * `PyMonad`\n",
    " * `fn.py`\n",
    " * `OSlash`"
   ]
  },
  {
   "cell_type": "markdown",
   "metadata": {
    "id": "9qsaLbDpwa2D",
    "slideshow": {
     "slide_type": "slide"
    }
   },
   "source": [
    "## Operators\n",
    "\n",
    "Given a monad `m`\n",
    "\n",
    "```\n",
    "pure: Callable[[T], m[T]]\n",
    "bind: Callable[[m[S], Callable[[S], m[T]]], m[T]]\n",
    "```"
   ]
  },
  {
   "cell_type": "markdown",
   "metadata": {
    "slideshow": {
     "slide_type": "slide"
    }
   },
   "source": [
    "## Example: Maybe monad"
   ]
  },
  {
   "cell_type": "code",
   "execution_count": null,
   "metadata": {
    "id": "HqhXCUbgIVGd",
    "slideshow": {
     "slide_type": "subslide"
    }
   },
   "outputs": [],
   "source": [
    "class Maybe(Generic[S]):\n",
    "    \n",
    "    def bind(self, f: Callable[[S], Maybe[T]]) -> Maybe[T]:\n",
    "        if isinstance(self, Nothing):\n",
    "            return Nothing()\n",
    "        elif isinstance(self, Just):\n",
    "            return f(self.value)\n",
    "        else:\n",
    "            raise RuntimeError(f\"unsupported type of {self}\")\n",
    "\n",
    "            \n",
    "def pure(a: T) -> Maybe[T]:\n",
    "    return Just(a)\n",
    "\n",
    "\n",
    "class Just(Maybe[T]):\n",
    "    def __init__(self, value: T) -> None:\n",
    "        self.value = value\n",
    "\n",
    "        \n",
    "class Nothing(Maybe[T]):\n",
    "    pass"
   ]
  },
  {
   "cell_type": "code",
   "execution_count": 17,
   "metadata": {
    "id": "HqhXCUbgIVGd",
    "slideshow": {
     "slide_type": "subslide"
    }
   },
   "outputs": [],
   "source": [
    "import requests"
   ]
  },
  {
   "cell_type": "code",
   "execution_count": 18,
   "metadata": {
    "slideshow": {
     "slide_type": "-"
    }
   },
   "outputs": [],
   "source": [
    "def get(url: str) -> Maybe[str]:\n",
    "    resp = requests.get(url)\n",
    "    if resp.status_code != 200:\n",
    "        return Nothing()\n",
    "    else:\n",
    "        return Just(resp.text)"
   ]
  },
  {
   "cell_type": "code",
   "execution_count": 19,
   "metadata": {
    "slideshow": {
     "slide_type": "-"
    }
   },
   "outputs": [],
   "source": [
    "def post(url: str) -> Callable[[str], Maybe[str]]:\n",
    "    def func(data):\n",
    "        resp = requests.post(url, data=data)\n",
    "        if resp.status_code != 200:\n",
    "            return Nothing()\n",
    "        else:\n",
    "            return Just(resp.text)\n",
    "    return func    "
   ]
  },
  {
   "cell_type": "code",
   "execution_count": 20,
   "metadata": {
    "slideshow": {
     "slide_type": "subslide"
    }
   },
   "outputs": [],
   "source": [
    "url1 = \"https://example.com/\"\n",
    "url2 = \"https://example.com/non_existent_path\""
   ]
  },
  {
   "cell_type": "code",
   "execution_count": 21,
   "metadata": {
    "slideshow": {
     "slide_type": "-"
    }
   },
   "outputs": [
    {
     "data": {
      "text/plain": [
       "<__main__.Just at 0x7f9c5c333580>"
      ]
     },
     "execution_count": 21,
     "metadata": {},
     "output_type": "execute_result"
    }
   ],
   "source": [
    "get(url1)"
   ]
  },
  {
   "cell_type": "code",
   "execution_count": 22,
   "metadata": {
    "slideshow": {
     "slide_type": "-"
    }
   },
   "outputs": [
    {
     "data": {
      "text/plain": [
       "<__main__.Nothing at 0x7f9c5c333b50>"
      ]
     },
     "execution_count": 22,
     "metadata": {},
     "output_type": "execute_result"
    }
   ],
   "source": [
    "get(url2)"
   ]
  },
  {
   "cell_type": "code",
   "execution_count": 23,
   "metadata": {
    "slideshow": {
     "slide_type": "-"
    }
   },
   "outputs": [
    {
     "data": {
      "text/plain": [
       "<__main__.Nothing at 0x7f9c5c33f9d0>"
      ]
     },
     "execution_count": 23,
     "metadata": {},
     "output_type": "execute_result"
    }
   ],
   "source": [
    "get(url1).bind(post(url2))"
   ]
  },
  {
   "cell_type": "code",
   "execution_count": 24,
   "metadata": {
    "slideshow": {
     "slide_type": "-"
    }
   },
   "outputs": [
    {
     "data": {
      "text/plain": [
       "<__main__.Just at 0x7f9c5432c0a0>"
      ]
     },
     "execution_count": 24,
     "metadata": {},
     "output_type": "execute_result"
    }
   ],
   "source": [
    "get(url1).bind(post(url1))"
   ]
  }
 ],
 "metadata": {
  "celltoolbar": "Slideshow",
  "colab": {
   "collapsed_sections": [],
   "name": "pyfunc.ipynb",
   "provenance": [],
   "toc_visible": true
  },
  "kernelspec": {
   "display_name": "Python 3",
   "language": "python",
   "name": "python3"
  },
  "language_info": {
   "codemirror_mode": {
    "name": "ipython",
    "version": 3
   },
   "file_extension": ".py",
   "mimetype": "text/x-python",
   "name": "python",
   "nbconvert_exporter": "python",
   "pygments_lexer": "ipython3",
   "version": "3.8.5"
  },
  "toc-autonumbering": true,
  "toc-showcode": false,
  "toc-showmarkdowntxt": false
 },
 "nbformat": 4,
 "nbformat_minor": 4
}
